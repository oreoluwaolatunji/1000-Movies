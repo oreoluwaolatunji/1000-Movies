{
 "cells": [
  {
   "cell_type": "code",
   "execution_count": 1,
   "id": "c88de898",
   "metadata": {},
   "outputs": [],
   "source": [
    "#Import libraries needed\n",
    "from bs4 import BeautifulSoup\n",
    "import requests\n",
    "import numpy as np\n",
    "import pandas as pd\n",
    "from time import sleep\n",
    "from random import randint\n",
    "\n",
    "headers = {'Accept-Language' : 'en-US, en; q = 0.5'}\n",
    "\n",
    "# Create empty lists to parse your data into\n",
    "movie_name = []\n",
    "release_year = []\n",
    "runtime = []\n",
    "genre = []\n",
    "rating = []\n",
    "director = []\n",
    "cast_1 = []\n",
    "cast_2 = []\n",
    "cast_3 = []\n",
    "cast_4 = []\n",
    "votes = []\n",
    "gross = []\n",
    "\n",
    "# Create an array ranging from 1 to 1000 with a step size of 50\n",
    "pages = np.arange(1,1000,50)"
   ]
  },
  {
   "cell_type": "code",
   "execution_count": 2,
   "id": "f4356ac8",
   "metadata": {},
   "outputs": [],
   "source": [
    "for page in pages:\n",
    "    page = requests.get('https://www.imdb.com/search/title/?groups=top_1000&sort=alpha,asc&start='+str(page)+'&ref_=adv_nxt')\n",
    "    soup = BeautifulSoup(page.text, 'html.parser')\n",
    "    movie_data = soup.findAll('div', attrs = {'class' : 'lister-item mode-advanced'})\n",
    "    sleep(randint(2,8))\n",
    "    for store in movie_data:\n",
    "        name = store.h3.a.text\n",
    "        movie_name.append(name)\n",
    "        \n",
    "        y_o_r = store.h3.find('span', class_ = 'lister-item-year text-muted unbold').text\n",
    "        release_year.append(y_o_r)\n",
    "        \n",
    "        time = store.p.find('span', class_ = 'runtime').text\n",
    "        runtime.append(time)\n",
    "        \n",
    "        genres = store.p.find('span', class_ = 'genre').text\n",
    "        genre.append(genres)\n",
    "        \n",
    "        ratings = store.find('div', class_ = 'inline-block ratings-imdb-rating').text\n",
    "        rating.append(ratings)\n",
    "        \n",
    "        directors = store.find('p', class_ = '').find_all('a', href = True)[0].text\n",
    "        director.append(directors)\n",
    "        \n",
    "        cast = store.find('p', class_ = '').find_all('a', href = True)[1:]\n",
    "        cast_1.append(cast[0].text)\n",
    "        cast_2.append(cast[1].text)\n",
    "        cast_3.append(cast[2].text)\n",
    "        cast_4.append(cast[3].text)\n",
    "        \n",
    "        value = store.find_all('span', attrs = {'name' : \"nv\"})\n",
    "        \n",
    "        vote = value[0].text\n",
    "        votes.append(vote)\n",
    "         \n",
    "        grosses = value[1].text if len(value) > 1 else 'NaN'\n",
    "        gross.append(grosses)"
   ]
  },
  {
   "cell_type": "code",
   "execution_count": 3,
   "id": "202d37cf",
   "metadata": {},
   "outputs": [],
   "source": [
    "# Parse the data into a dataframe\n",
    "movies = pd.DataFrame({'movie_name' : movie_name, 'release_year' : release_year, 'runtime' : runtime, 'genre' : genre, 'rating' : rating, 'director' : director, 'cast_1' : cast_1, 'cast_2' : cast_2, 'cast_3' : cast_3, 'cast_4' : cast_4, 'votes' : votes, 'gross' : gross})\n",
    "\n",
    "\n",
    "\n",
    "#Create a csv file for the data\n",
    "movies.to_csv(\"IMDb_Top_1000.csv\", index = False)"
   ]
  }
 ],
 "metadata": {
  "kernelspec": {
   "display_name": "Python 3 (ipykernel)",
   "language": "python",
   "name": "python3"
  },
  "language_info": {
   "codemirror_mode": {
    "name": "ipython",
    "version": 3
   },
   "file_extension": ".py",
   "mimetype": "text/x-python",
   "name": "python",
   "nbconvert_exporter": "python",
   "pygments_lexer": "ipython3",
   "version": "3.10.9"
  }
 },
 "nbformat": 4,
 "nbformat_minor": 5
}
